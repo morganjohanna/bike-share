{
 "cells": [
  {
   "attachments": {},
   "cell_type": "markdown",
   "metadata": {},
   "source": [
    "# Import, Cleaning, and Split"
   ]
  },
  {
   "cell_type": "code",
   "execution_count": 13,
   "metadata": {},
   "outputs": [],
   "source": [
    "import pandas as pd\n",
    "import numpy as np\n",
    "import sklearn\n",
    "from sklearn.model_selection import train_test_split\n",
    "from sklearn.preprocessing import OneHotEncoder\n",
    "from sklearn.preprocessing import PolynomialFeatures\n",
    "from sklearn.preprocessing import KBinsDiscretizer\n",
    "from sklearn.compose import ColumnTransformer\n",
    "from sklearn.pipeline import make_pipeline\n",
    "from sklearn.model_selection import cross_val_score\n",
    "from sklearn.metrics import mean_squared_log_error\n",
    "from sklearn.ensemble import RandomForestRegressor\n",
    "\n",
    "df = pd.read_csv(\"./data/train.csv\")\n",
    "kaggle_test = pd.read_csv(\"./data/test.csv\")"
   ]
  },
  {
   "cell_type": "code",
   "execution_count": 14,
   "metadata": {},
   "outputs": [],
   "source": [
    "def cleanup(df):\n",
    "    df[\"datetime\"] = pd.to_datetime(df[\"datetime\"])\n",
    "    df[\"year\"] = df[\"datetime\"].dt.year\n",
    "    df[\"month\"] = df[\"datetime\"].dt.month\n",
    "    df[\"day\"] = df[\"datetime\"].dt.day\n",
    "    df[\"hour\"] = df[\"datetime\"].dt.hour\n",
    "    df[\"dayofweek\"] = df[\"datetime\"].dt.dayofweek # Monday = 0\n",
    "    \n",
    "    df[\"season\"] = \"\" # season based on actual seasons, 1 Nov-Jan, 2 Feb-Apr, 3 Mar-May, 4 Jun-Aug to include school year\n",
    "    df.loc[df.month == 12, \"season\"] = \"1\"\n",
    "    df.loc[df.month == 1, \"season\"] = \"1\"\n",
    "    df.loc[df.month == 2, \"season\"] = \"1\"\n",
    "    df.loc[df.month == 3, \"season\"] = \"2\"\n",
    "    df.loc[df.month == 4, \"season\"] = \"2\"\n",
    "    df.loc[df.month == 5, \"season\"] = \"2\"\n",
    "    df.loc[df.month == 6, \"season\"] = \"3\"\n",
    "    df.loc[df.month == 7, \"season\"] = \"3\"\n",
    "    df.loc[df.month == 8, \"season\"] = \"3\"\n",
    "    df.loc[df.month == 9, \"season\"] = \"4\"\n",
    "    df.loc[df.month == 10, \"season\"] = \"4\"\n",
    "    df.loc[df.month == 11, \"season\"] = \"4\"\n",
    "\n",
    "cleanup(df)\n",
    "cleanup(kaggle_test)"
   ]
  },
  {
   "cell_type": "code",
   "execution_count": 15,
   "metadata": {},
   "outputs": [],
   "source": [
    "y = df[\"count\"]\n",
    "X = df.drop([\"casual\", \"registered\", \"atemp\", \"datetime\", \"holiday\", \"workingday\", \"day\", \"windspeed\", \"weather\"], axis = 1)\n",
    "\n",
    "X_train, X_test, y_train, y_test = train_test_split(X, y, test_size = 0.2, random_state = 314)"
   ]
  },
  {
   "attachments": {},
   "cell_type": "markdown",
   "metadata": {},
   "source": [
    "# Feature Engineering"
   ]
  },
  {
   "cell_type": "code",
   "execution_count": 16,
   "metadata": {},
   "outputs": [
    {
     "name": "stderr",
     "output_type": "stream",
     "text": [
      "/home/johanna/anaconda3/lib/python3.10/site-packages/sklearn/preprocessing/_encoders.py:828: FutureWarning: `sparse` was renamed to `sparse_output` in version 1.2 and will be removed in 1.4. `sparse_output` is ignored unless you leave `sparse` to its default value.\n",
      "  warnings.warn(\n"
     ]
    }
   ],
   "source": [
    "cat_pipe = make_pipeline(OneHotEncoder(handle_unknown = \"ignore\", sparse = False))\n",
    "\n",
    "pol_pipe = make_pipeline(PolynomialFeatures(degree = 4, interaction_only = False, include_bias = False))\n",
    "\n",
    "bin_pipe2 = make_pipeline(KBinsDiscretizer(n_bins = 4, strategy = \"kmeans\"))\n",
    "\n",
    "feature_transform = ColumnTransformer(transformers = [\n",
    "    (\"bin2\", bin_pipe2, [\"humidity\", \"temp\"]),\n",
    "    (\"poly\", pol_pipe, [\"temp\", \"hour\", \"month\", \"humidity\", \"year\"]),\n",
    "    (\"cat\", cat_pipe, [\"year\", \"month\", \"hour\", \"dayofweek\", \"season\"])\n",
    "])\n",
    "\n",
    "X_train_transform = feature_transform.fit_transform(X_train)\n",
    "X_test_transform = feature_transform.transform(X_test)\n",
    "kaggle_transform = feature_transform.transform(kaggle_test)"
   ]
  },
  {
   "attachments": {},
   "cell_type": "markdown",
   "metadata": {},
   "source": [
    "# Fit and Test"
   ]
  },
  {
   "cell_type": "code",
   "execution_count": 17,
   "metadata": {},
   "outputs": [
    {
     "name": "stdout",
     "output_type": "stream",
     "text": [
      "0.9874533226917952\n",
      "0.9161929358846879\n"
     ]
    }
   ],
   "source": [
    "m = RandomForestRegressor()\n",
    "m = m.fit(X_train_transform, y_train)\n",
    "ypred = m.predict(X_test_transform)\n",
    "\n",
    "print(m.score(X_train_transform, y_train))\n",
    "print(m.score(X_test_transform, y_test))"
   ]
  },
  {
   "cell_type": "code",
   "execution_count": 19,
   "metadata": {},
   "outputs": [
    {
     "name": "stderr",
     "output_type": "stream",
     "text": [
      "[Parallel(n_jobs=1)]: Using backend SequentialBackend with 1 concurrent workers.\n"
     ]
    },
    {
     "name": "stdout",
     "output_type": "stream",
     "text": [
      "[CV] END ................................ score: (test=0.900) total time=  32.6s\n"
     ]
    },
    {
     "name": "stderr",
     "output_type": "stream",
     "text": [
      "[Parallel(n_jobs=1)]: Done   1 out of   1 | elapsed:   32.6s remaining:    0.0s\n"
     ]
    },
    {
     "name": "stdout",
     "output_type": "stream",
     "text": [
      "[CV] END ................................ score: (test=0.899) total time=  32.1s\n"
     ]
    },
    {
     "name": "stderr",
     "output_type": "stream",
     "text": [
      "[Parallel(n_jobs=1)]: Done   2 out of   2 | elapsed:  1.1min remaining:    0.0s\n"
     ]
    },
    {
     "name": "stdout",
     "output_type": "stream",
     "text": [
      "[CV] END ................................ score: (test=0.913) total time=  32.2s\n",
      "[CV] END ................................ score: (test=0.912) total time=  32.6s\n",
      "[CV] END ................................ score: (test=0.915) total time=  32.3s\n",
      "[0.90001727 0.8989614  0.91332778 0.91166962 0.9147386 ]\n",
      "0.9077429359465784\n"
     ]
    },
    {
     "name": "stderr",
     "output_type": "stream",
     "text": [
      "[Parallel(n_jobs=1)]: Done   5 out of   5 | elapsed:  2.7min finished\n"
     ]
    }
   ],
   "source": [
    "# Cross-validation\n",
    "cross_r2_lin = cross_val_score(m, X_train_transform, y_train, cv = 5, scoring = \"r2\", verbose = 3)\n",
    "\n",
    "sklearn.metrics.SCORERS.keys()\n",
    "print(cross_r2_lin)\n",
    "print(cross_r2_lin.mean())"
   ]
  },
  {
   "cell_type": "code",
   "execution_count": 20,
   "metadata": {},
   "outputs": [
    {
     "name": "stdout",
     "output_type": "stream",
     "text": [
      "0.4135611633047051\n"
     ]
    }
   ],
   "source": [
    "# RMSLE\n",
    "ypred[ypred < 0] = 0.0\n",
    "\n",
    "print(np.sqrt(mean_squared_log_error(y_test, ypred)))"
   ]
  },
  {
   "attachments": {},
   "cell_type": "markdown",
   "metadata": {},
   "source": [
    "# Export for Upload"
   ]
  },
  {
   "cell_type": "code",
   "execution_count": 21,
   "metadata": {},
   "outputs": [],
   "source": [
    "kaggle_rf = m.predict(kaggle_transform)\n",
    "kaggle_rf[kaggle_rf < 0] = 0.0\n",
    "\n",
    "kaggle_pred_rf = pd.DataFrame({\"datetime\": kaggle_test[\"datetime\"], \"count\": kaggle_rf[0:]})\n",
    "\n",
    "kaggle_pred_rf.to_csv(\"./output/kaggle_random_forest.csv\", index = False)"
   ]
  }
 ],
 "metadata": {
  "kernelspec": {
   "display_name": "base",
   "language": "python",
   "name": "python3"
  },
  "language_info": {
   "codemirror_mode": {
    "name": "ipython",
    "version": 3
   },
   "file_extension": ".py",
   "mimetype": "text/x-python",
   "name": "python",
   "nbconvert_exporter": "python",
   "pygments_lexer": "ipython3",
   "version": "3.10.9"
  },
  "orig_nbformat": 4
 },
 "nbformat": 4,
 "nbformat_minor": 2
}
